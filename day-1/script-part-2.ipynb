{
 "cells": [
  {
   "cell_type": "markdown",
   "metadata": {},
   "source": [
    "### Advent of Code: Day 1, Part 2"
   ]
  },
  {
   "cell_type": "markdown",
   "metadata": {},
   "source": [
    "For the second part, we're using the [same data](./day_2_input.txt)! \n",
    "\n",
    "We are adding the frequency day over day and identifying the first value that is repeated."
   ]
  },
  {
   "cell_type": "markdown",
   "metadata": {},
   "source": [
    "#### My process: \n",
    "I usually tackle problems by finding a solution that *works*, then improving that solution.\n",
    "\n",
    "A solution that *would* work is to just create a second list that tracks the resulting frequency. Once the list is built, we can grab the first value that is duplicated. Let's try that."
   ]
  },
  {
   "cell_type": "code",
   "execution_count": 33,
   "metadata": {
    "scrolled": true
   },
   "outputs": [],
   "source": [
    "# Open file.\n",
    "file = open('./day_1_input.txt', 'r')\n",
    "\n",
    "# Save day_2_input as list called current_freq.\n",
    "current_freq = [int(i) for i in file]\n",
    "\n",
    "# Create list of resulting frequencies called resulting_freq.\n",
    "resulting_freq = [sum(current_freq[:i+1]) for i in range(len(current_freq))]"
   ]
  },
  {
   "cell_type": "markdown",
   "metadata": {},
   "source": [
    "I initially made a mistake and just wrote `[i for i in file]` for current frequency, causing an integer/string issue.\n",
    "\n",
    "Let's make sure that this happened the correct way."
   ]
  },
  {
   "cell_type": "code",
   "execution_count": 2,
   "metadata": {},
   "outputs": [
    {
     "data": {
      "text/plain": [
       "[-10, 18, 5, 1, 1, -19, -13, -4, -4, -5]"
      ]
     },
     "execution_count": 2,
     "metadata": {},
     "output_type": "execute_result"
    }
   ],
   "source": [
    "current_freq[0:10]"
   ]
  },
  {
   "cell_type": "code",
   "execution_count": 3,
   "metadata": {},
   "outputs": [
    {
     "data": {
      "text/plain": [
       "[-10, 8, 13, 14, 15, -4, -17, -21, -25, -30]"
      ]
     },
     "execution_count": 3,
     "metadata": {},
     "output_type": "execute_result"
    }
   ],
   "source": [
    "resulting_freq[0:10]"
   ]
  },
  {
   "cell_type": "markdown",
   "metadata": {},
   "source": [
    "In looking at the first ten values in `resulting_freq`, it does seem to be the resulting frequency after each step.\n",
    "\n",
    "Now, we need to find the first duplicated value in `resulting_freq` and return that. Since sets do not allow duplicated objects, I'll plan to create a set of items 0 through `i` in `resulting_freq`. When the items are all unique, the length of that set should be `i`. If there's a duplicate in it, then that length shouldn't be `i`."
   ]
  },
  {
   "cell_type": "code",
   "execution_count": 6,
   "metadata": {},
   "outputs": [
    {
     "data": {
      "text/plain": [
       "10"
      ]
     },
     "execution_count": 6,
     "metadata": {},
     "output_type": "execute_result"
    }
   ],
   "source": [
    "len(set(resulting_freq[0:10])) # All unique values."
   ]
  },
  {
   "cell_type": "code",
   "execution_count": 10,
   "metadata": {},
   "outputs": [
    {
     "data": {
      "text/plain": [
       "1016"
      ]
     },
     "execution_count": 10,
     "metadata": {},
     "output_type": "execute_result"
    }
   ],
   "source": [
    "len(set(resulting_freq[0:10000])) # Some duplicates exist!"
   ]
  },
  {
   "cell_type": "markdown",
   "metadata": {},
   "source": [
    "So I run this, thinking it'll work:"
   ]
  },
  {
   "cell_type": "code",
   "execution_count": 36,
   "metadata": {},
   "outputs": [],
   "source": [
    "for i in range(1, len(resulting_freq)):\n",
    "    if len(set(resulting_freq[0:i])) != i:\n",
    "        print(i, resulting_freq[i])"
   ]
  },
  {
   "cell_type": "markdown",
   "metadata": {},
   "source": [
    "No output. I play around with it, trying to figure out what I did wrong. I try reloading `resulting_freq` to make sure that I didn't overwrite it the wrong way, I try printing out the different elements in the set of `resulting_freq`. Is it possible that there aren't duplicates?"
   ]
  },
  {
   "cell_type": "code",
   "execution_count": 34,
   "metadata": {},
   "outputs": [
    {
     "data": {
      "text/plain": [
       "1016"
      ]
     },
     "execution_count": 34,
     "metadata": {},
     "output_type": "execute_result"
    }
   ],
   "source": [
    "len(resulting_freq)"
   ]
  },
  {
   "cell_type": "code",
   "execution_count": 35,
   "metadata": {},
   "outputs": [
    {
     "data": {
      "text/plain": [
       "1016"
      ]
     },
     "execution_count": 35,
     "metadata": {},
     "output_type": "execute_result"
    }
   ],
   "source": [
    "len(set(resulting_freq))"
   ]
  },
  {
   "cell_type": "markdown",
   "metadata": {},
   "source": [
    "Ahhh. So it's printing nothing out because it shouldn't be printing something out. There aren't any duplicates. I [played myself earlier](https://www.google.com/url?sa=i&source=images&cd=&cad=rja&uact=8&ved=2ahUKEwiX1vbW-o3fAhUJZd8KHQG6D3kQjRx6BAgBEAU&url=https%3A%2F%2Fknowyourmeme.com%2Fphotos%2F1228324-congratulations-you-played-yourself&psig=AOvVaw3MsfQvlDLv4DJSwbsJyTkl&ust=1544280332491680) when I wrote \n",
    "> `len(set(resulting_freq[0:10000])) # Some duplicates exist!`\n",
    "\n",
    "I just indexed my list with an index that didn't actually exist, and the result of `1016` fooled me into thinking there were lots of duplicates.\n",
    "\n",
    "I checked the prompt again: \"Note that your device might need to repeat its list of frequency changes many times before a duplicate frequency is found, and that duplicates might be found while in the middle of processing the list.\"\n",
    "\n",
    "My new strategy is to create a `while` loop to have `current_freq` used over and over again, then calculate `resulting_freq` and find the answer."
   ]
  },
  {
   "cell_type": "code",
   "execution_count": null,
   "metadata": {},
   "outputs": [],
   "source": [
    "current_freq = [int(i) for i in file]\n",
    "resulting_freq = [sum(current_freq[:i+1]) for i in range(len(current_freq))]\n",
    "\n",
    "i = 1\n",
    "while True:\n",
    "    if len(set(resulting_freq[0:i])) != i:\n",
    "        print(i, resulting_freq[i])\n",
    "        break\n",
    "    i += 1\n",
    "#    resulting_freq.append(sum)\n",
    "    mod = i % len(current_freq)"
   ]
  },
  {
   "cell_type": "markdown",
   "metadata": {},
   "source": [
    "I'm abandoning this approach because, mid-coding, I realized that we can just create `resulting_freq` in a much easier way..."
   ]
  },
  {
   "cell_type": "code",
   "execution_count": 39,
   "metadata": {},
   "outputs": [
    {
     "ename": "KeyboardInterrupt",
     "evalue": "",
     "output_type": "error",
     "traceback": [
      "\u001b[0;31m---------------------------------------------------------------------------\u001b[0m",
      "\u001b[0;31mKeyboardInterrupt\u001b[0m                         Traceback (most recent call last)",
      "\u001b[0;32m<ipython-input-39-c66de4a86dfc>\u001b[0m in \u001b[0;36m<module>\u001b[0;34m()\u001b[0m\n\u001b[1;32m      4\u001b[0m     \u001b[0mmod\u001b[0m \u001b[0;34m=\u001b[0m \u001b[0mi\u001b[0m \u001b[0;34m%\u001b[0m \u001b[0mlen\u001b[0m\u001b[0;34m(\u001b[0m\u001b[0mcurrent_freq\u001b[0m\u001b[0;34m)\u001b[0m\u001b[0;34m\u001b[0m\u001b[0m\n\u001b[1;32m      5\u001b[0m     \u001b[0mresulting_freq\u001b[0m\u001b[0;34m.\u001b[0m\u001b[0mappend\u001b[0m\u001b[0;34m(\u001b[0m\u001b[0mresulting_freq\u001b[0m\u001b[0;34m[\u001b[0m\u001b[0;34m-\u001b[0m\u001b[0;36m1\u001b[0m\u001b[0;34m]\u001b[0m \u001b[0;34m+\u001b[0m \u001b[0mcurrent_freq\u001b[0m\u001b[0;34m[\u001b[0m\u001b[0mmod\u001b[0m\u001b[0;34m]\u001b[0m\u001b[0;34m)\u001b[0m\u001b[0;34m\u001b[0m\u001b[0m\n\u001b[0;32m----> 6\u001b[0;31m     \u001b[0;32mif\u001b[0m \u001b[0mlen\u001b[0m\u001b[0;34m(\u001b[0m\u001b[0mset\u001b[0m\u001b[0;34m(\u001b[0m\u001b[0mresulting_freq\u001b[0m\u001b[0;34m[\u001b[0m\u001b[0;36m0\u001b[0m\u001b[0;34m:\u001b[0m\u001b[0mi\u001b[0m\u001b[0;34m]\u001b[0m\u001b[0;34m)\u001b[0m\u001b[0;34m)\u001b[0m \u001b[0;34m!=\u001b[0m \u001b[0mi\u001b[0m\u001b[0;34m:\u001b[0m\u001b[0;34m\u001b[0m\u001b[0m\n\u001b[0m\u001b[1;32m      7\u001b[0m         \u001b[0mprint\u001b[0m\u001b[0;34m(\u001b[0m\u001b[0mi\u001b[0m\u001b[0;34m,\u001b[0m \u001b[0mresulting_freq\u001b[0m\u001b[0;34m[\u001b[0m\u001b[0mi\u001b[0m\u001b[0;34m]\u001b[0m\u001b[0;34m)\u001b[0m\u001b[0;34m\u001b[0m\u001b[0m\n\u001b[1;32m      8\u001b[0m         \u001b[0;32mbreak\u001b[0m\u001b[0;34m\u001b[0m\u001b[0m\n",
      "\u001b[0;31mKeyboardInterrupt\u001b[0m: "
     ]
    }
   ],
   "source": [
    "resulting_freq = [sum(current_freq[:2])]\n",
    "i = 1\n",
    "while True:\n",
    "    mod = i % len(current_freq)\n",
    "    resulting_freq.append(resulting_freq[-1] + current_freq[mod])\n",
    "    if len(set(resulting_freq[0:i])) != i:\n",
    "        print(i, resulting_freq[i])\n",
    "        break\n",
    "    i += 1"
   ]
  },
  {
   "cell_type": "markdown",
   "metadata": {},
   "source": [
    "This ran for awhile and didn't return anything, so I paused it. Did things work the way I expected?"
   ]
  },
  {
   "cell_type": "code",
   "execution_count": 41,
   "metadata": {},
   "outputs": [
    {
     "data": {
      "text/plain": [
       "(74287, 37903)"
      ]
     },
     "execution_count": 41,
     "metadata": {},
     "output_type": "execute_result"
    }
   ],
   "source": [
    "i, resulting_freq[i]"
   ]
  },
  {
   "cell_type": "markdown",
   "metadata": {},
   "source": [
    "Seems right. Let's add a timer and an output every 10,000 iterations to let me know it's still working."
   ]
  },
  {
   "cell_type": "code",
   "execution_count": 48,
   "metadata": {},
   "outputs": [
    {
     "name": "stdout",
     "output_type": "stream",
     "text": [
      "We have 10000 iterations in 1.6 seconds.\n",
      "We have 20000 iterations in 5.1 seconds.\n",
      "We have 30000 iterations in 12.7 seconds.\n",
      "We have 40000 iterations in 21.2 seconds.\n",
      "We have 50000 iterations in 31.4 seconds.\n",
      "We have 60000 iterations in 42.6 seconds.\n",
      "We have 70000 iterations in 54.7 seconds.\n",
      "We have 80000 iterations in 71.5 seconds.\n",
      "We have 90000 iterations in 99.4 seconds.\n",
      "We have 100000 iterations in 128.3 seconds.\n",
      "We have 110000 iterations in 158.4 seconds.\n",
      "We have 120000 iterations in 186.7 seconds.\n",
      "We have 130000 iterations in 214.0 seconds.\n",
      "We have 140000 iterations in 242.0 seconds.\n",
      "145799 287\n"
     ]
    }
   ],
   "source": [
    "import time\n",
    "\n",
    "t0 = time.time()\n",
    "resulting_freq = [sum(current_freq[:2])]\n",
    "i = 2\n",
    "while True:\n",
    "    if i % 10000 == 0:\n",
    "        print(f\"We have {i} iterations in {round(time.time() - t0, 1)} seconds.\")\n",
    "    mod = i % len(current_freq)\n",
    "    resulting_freq.append(resulting_freq[-1] + current_freq[mod])\n",
    "    if len(set(resulting_freq)) != i:\n",
    "        print(i-1, resulting_freq[-1])\n",
    "        break\n",
    "    i += 1"
   ]
  },
  {
   "cell_type": "markdown",
   "metadata": {},
   "source": [
    "I got the wrong answer three times before finding the correct one:\n",
    "- I initially guessed 145,801, but then realized they wanted the resulting frequency rather than the number of iterations.\n",
    "- I then guessed 317, which was too high. \n",
    "- I checked my indices, made some tweaks, and got 305. Still too high.\n",
    "- I re-ran it and got 287, which was correct!"
   ]
  },
  {
   "cell_type": "code",
   "execution_count": 45,
   "metadata": {},
   "outputs": [
    {
     "data": {
      "text/plain": [
       "145800"
      ]
     },
     "execution_count": 45,
     "metadata": {},
     "output_type": "execute_result"
    }
   ],
   "source": [
    "i-1"
   ]
  },
  {
   "cell_type": "code",
   "execution_count": 46,
   "metadata": {},
   "outputs": [
    {
     "data": {
      "text/plain": [
       "305"
      ]
     },
     "execution_count": 46,
     "metadata": {},
     "output_type": "execute_result"
    }
   ],
   "source": [
    "resulting_freq[i-1]"
   ]
  },
  {
   "cell_type": "markdown",
   "metadata": {},
   "source": [
    "#### How might I improve this?\n"
   ]
  },
  {
   "cell_type": "markdown",
   "metadata": {},
   "source": [
    "Well, searching from 1 to a potentially very high number is tough. Rather than incrementing `i` by 1, my gut tells me that I could probably square `i` each time to more effectively search.\n",
    "\n",
    "However, I should first see if it's quicker to use a list comprehension and just directly fill the list out versus appending to my list time over time. "
   ]
  },
  {
   "cell_type": "code",
   "execution_count": 54,
   "metadata": {},
   "outputs": [
    {
     "name": "stdout",
     "output_type": "stream",
     "text": [
      "14.62417197227478\n"
     ]
    }
   ],
   "source": [
    "t0 = time.time()\n",
    "\n",
    "i = 1000000\n",
    "lst = [sum(current_freq[:j+1]) for j in range(i)]\n",
    "\n",
    "print(time.time() - t0)"
   ]
  },
  {
   "cell_type": "code",
   "execution_count": 55,
   "metadata": {},
   "outputs": [
    {
     "name": "stdout",
     "output_type": "stream",
     "text": [
      "0.7400457859039307\n"
     ]
    }
   ],
   "source": [
    "t0 = time.time()\n",
    "\n",
    "lst = [current_freq[0]]\n",
    "\n",
    "for i in range(1000000):\n",
    "    mod = i % len(current_freq)\n",
    "    lst.append(lst[-1] + current_freq[mod])\n",
    "\n",
    "print(time.time() - t0)"
   ]
  },
  {
   "cell_type": "code",
   "execution_count": 69,
   "metadata": {},
   "outputs": [
    {
     "data": {
      "text/plain": [
       "1016"
      ]
     },
     "execution_count": 69,
     "metadata": {},
     "output_type": "execute_result"
    }
   ],
   "source": [
    "len(current_freq)"
   ]
  },
  {
   "cell_type": "markdown",
   "metadata": {},
   "source": [
    "Okay. It's considerably faster (in this case) to append than to use a list comprehension. Let's do that, then."
   ]
  },
  {
   "cell_type": "code",
   "execution_count": 114,
   "metadata": {},
   "outputs": [
    {
     "name": "stdout",
     "output_type": "stream",
     "text": [
      "We have 10 iterations in 0.0 seconds.\n",
      "We have 20 iterations in 0.0 seconds.\n",
      "We have 40 iterations in 0.0 seconds.\n",
      "We have 80 iterations in 0.0 seconds.\n",
      "We have 160 iterations in 0.0 seconds.\n",
      "We have 320 iterations in 0.0 seconds.\n",
      "We have 640 iterations in 0.0 seconds.\n",
      "We have 1280 iterations in 0.0 seconds.\n",
      "We have 2560 iterations in 0.0 seconds.\n",
      "We have 5120 iterations in 0.0 seconds.\n",
      "We have 10240 iterations in 0.0 seconds.\n",
      "We have 20480 iterations in 0.0 seconds.\n",
      "We have 40960 iterations in 0.0 seconds.\n",
      "We have 81920 iterations in 0.1 seconds.\n",
      "Changing loops - answer is between 81920 and 163840. Time elapsed is 0.1 seconds.\n",
      "We're on iteration 90000 (from 81920 to 163840) in 26.9 seconds.\n",
      "We're on iteration 100000 (from 81920 to 163840) in 59.9 seconds.\n",
      "We're on iteration 110000 (from 81920 to 163840) in 95.1 seconds.\n",
      "We're on iteration 120000 (from 81920 to 163840) in 134.1 seconds.\n",
      "We're on iteration 130000 (from 81920 to 163840) in 173.3 seconds.\n",
      "We're on iteration 140000 (from 81920 to 163840) in 215.9 seconds.\n",
      "145801 299\n"
     ]
    }
   ],
   "source": [
    "t0 = time.time()\n",
    "\n",
    "resulting_freq = [sum(current_freq[:1])]\n",
    "last_i = 1\n",
    "i = 10\n",
    "\n",
    "while True:\n",
    "    for j in range(last_i, i):\n",
    "        mod = j % len(current_freq)\n",
    "        resulting_freq.append(resulting_freq[-1] + current_freq[mod])\n",
    "    if len(set(resulting_freq)) != i:\n",
    "        break\n",
    "    print(f\"We have {i} iterations in {round(time.time() - t0, 1)} seconds.\")\n",
    "    last_i = i\n",
    "    i *= 2\n",
    "\n",
    "print(f\"Changing loops - answer is between {last_i} and {i}. Time elapsed is {round(time.time() - t0, 1)} seconds.\")\n",
    "for k in range(last_i, i+1):\n",
    "    if k % 10000 == 0:\n",
    "        print(f\"We're on iteration {k} (from {last_i} to {i}) in {round(time.time() - t0, 1)} seconds.\")\n",
    "    if len(set(resulting_freq[0:k+1])) != k+1:\n",
    "        print(k-1, resulting_freq[k-1])\n",
    "        break"
   ]
  },
  {
   "cell_type": "markdown",
   "metadata": {},
   "source": [
    "This took a lot of debugging - indices throw *everything* off - but I was able to get an answer that took about... the same amount of time. The initial search went by fast, but after changing loops we used way more time.\n",
    "\n",
    "Now what I want to do is implement [Newton's method](https://en.wikipedia.org/wiki/Newton%27s_method) to reduce the amount of time in that second loop. In short: rather than searching each value from 81920 to 163840, I'll try to narrow down the search by half each time by checking the value in the middle and eliminating half of it."
   ]
  },
  {
   "cell_type": "code",
   "execution_count": 122,
   "metadata": {},
   "outputs": [
    {
     "name": "stdout",
     "output_type": "stream",
     "text": [
      "We have 10 iterations in 0.0 seconds.\n",
      "We have 20 iterations in 0.0 seconds.\n",
      "We have 40 iterations in 0.0 seconds.\n",
      "We have 80 iterations in 0.0 seconds.\n",
      "We have 160 iterations in 0.0 seconds.\n",
      "We have 320 iterations in 0.0 seconds.\n",
      "We have 640 iterations in 0.0 seconds.\n",
      "We have 1280 iterations in 0.0 seconds.\n",
      "We have 2560 iterations in 0.0 seconds.\n",
      "We have 5120 iterations in 0.0 seconds.\n",
      "We have 10240 iterations in 0.0 seconds.\n",
      "We have 20480 iterations in 0.0 seconds.\n",
      "We have 40960 iterations in 0.0 seconds.\n",
      "We have 81920 iterations in 0.1 seconds.\n",
      "Changing loops - answer is between 81920 and 163840. Time elapsed is 0.1 seconds.\n",
      "Min: 81920, Mean: 122880, Max: 163840\n",
      "Min: 122880, Mean: 143360, Max: 163840\n",
      "Min: 143360, Mean: 153600, Max: 163840\n",
      "Min: 143360, Mean: 148480, Max: 153600\n",
      "Min: 143360, Mean: 145920, Max: 148480\n",
      "Min: 143360, Mean: 144640, Max: 145920\n",
      "Min: 144640, Mean: 145280, Max: 145920\n",
      "Min: 145280, Mean: 145600, Max: 145920\n",
      "Min: 145600, Mean: 145760, Max: 145920\n",
      "Min: 145760, Mean: 145840, Max: 145920\n",
      "Min: 145760, Mean: 145800, Max: 145840\n",
      "Min: 145760, Mean: 145780, Max: 145800\n",
      "Min: 145780, Mean: 145790, Max: 145800\n",
      "Min: 145790, Mean: 145795, Max: 145800\n",
      "Min: 145795, Mean: 145798, Max: 145800\n",
      "Min: 145798, Mean: 145799, Max: 145800\n",
      "Min: 145799, Mean: 145800, Max: 145800\n",
      "145801 299\n",
      "This all took 0.19266724586486816 seconds!\n"
     ]
    }
   ],
   "source": [
    "t0 = time.time()\n",
    "\n",
    "resulting_freq = [sum(current_freq[:1])]\n",
    "last_i = 1\n",
    "i = 10\n",
    "\n",
    "while True:\n",
    "    for j in range(last_i, i):\n",
    "        mod = j % len(current_freq)\n",
    "        resulting_freq.append(resulting_freq[-1] + current_freq[mod])\n",
    "    if len(set(resulting_freq)) != i:\n",
    "        break\n",
    "    print(f\"We have {i} iterations in {round(time.time() - t0, 1)} seconds.\")\n",
    "    last_i = i\n",
    "    i *= 2\n",
    "\n",
    "print(f\"Changing loops - answer is between {last_i} and {i}. Time elapsed is {round(time.time() - t0, 1)} seconds.\")\n",
    "# for k in range(last_i, i+1):\n",
    "#     if k % 10000 == 0:\n",
    "#         print(f\"We're on iteration {k} (from {last_i} to {i}) in {round(time.time() - t0, 1)} seconds.\")    \n",
    "\n",
    "min_value = last_i\n",
    "max_value = i\n",
    "\n",
    "while True:\n",
    "    mean_value = round((min_value + max_value) / 2)\n",
    "    print(f\"Min: {min_value}, Mean: {mean_value}, Max: {max_value}\")\n",
    "    \n",
    "    if len(set(resulting_freq[0:(mean_value + 1)])) != (mean_value + 1):\n",
    "        if max_value - min_value <= 1:\n",
    "            print(mean_value+1, resulting_freq[mean_value+1])\n",
    "            break\n",
    "        else:\n",
    "            max_value = mean_value\n",
    "    else:\n",
    "        min_value = mean_value\n",
    "\n",
    "print(f\"This all took {time.time() - t0} seconds!\")"
   ]
  },
  {
   "cell_type": "markdown",
   "metadata": {},
   "source": [
    "By implementing Newton's method, I took the amount of time this took from around 270 seconds down to under one-fifth of a second."
   ]
  },
  {
   "cell_type": "markdown",
   "metadata": {},
   "source": [
    "### Resources Used\n",
    "- https://realpython.com/python-f-strings/#f-strings-a-new-and-improved-way-to-format-strings-in-python"
   ]
  }
 ],
 "metadata": {
  "kernelspec": {
   "display_name": "Python 3",
   "language": "python",
   "name": "python3"
  },
  "language_info": {
   "codemirror_mode": {
    "name": "ipython",
    "version": 3
   },
   "file_extension": ".py",
   "mimetype": "text/x-python",
   "name": "python",
   "nbconvert_exporter": "python",
   "pygments_lexer": "ipython3",
   "version": "3.7.0"
  }
 },
 "nbformat": 4,
 "nbformat_minor": 2
}
