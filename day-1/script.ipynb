{
 "cells": [
  {
   "cell_type": "markdown",
   "metadata": {},
   "source": [
    "### Advent of Code: Day 1"
   ]
  },
  {
   "cell_type": "markdown",
   "metadata": {},
   "source": [
    "#### My process: \n",
    "We're summing the digits found at [this link](https://adventofcode.com/2018/day/1/input). I tried to directly pull in the link, but it didn't go very well. Then, I downloaded the input as a `.txt` file and saved it in the repo and opened that directly!"
   ]
  },
  {
   "cell_type": "code",
   "execution_count": 1,
   "metadata": {
    "scrolled": true
   },
   "outputs": [
    {
     "name": "stdout",
     "output_type": "stream",
     "text": [
      "513\n"
     ]
    }
   ],
   "source": [
    "# Open the file for reading.\n",
    "file = open('./day_1_input.txt', 'r')\n",
    "\n",
    "# List comprehension iterating over each item in the file\n",
    "print(sum([int(i) for i in file]))"
   ]
  },
  {
   "cell_type": "markdown",
   "metadata": {},
   "source": [
    "#### How would I otherwise do this?\n",
    "In general, I probably would have defaulted to importing Pandas and reading the file in using a `.read_table` method or something like that."
   ]
  },
  {
   "cell_type": "markdown",
   "metadata": {},
   "source": [
    "#### How might I improve this?\n",
    "If the list of numbers was **really** large, I would consider parallelizing it. Since we're just adding lots of numbers, I could take my big list of numbers, split it into two lists, have one computer core add the first list and have a second computer core add the second list at the same time. Then, I can just add the two results together to get my final result. I'm not limited to two cores; I could split my list up into lots of different sub-lists. It takes some time to set up, but since my cores can do the adding simultaneously, if I'm adding trillions of numbers, I can cut down how much processing time this will take.\n",
    "\n",
    "It won't be worth it in this situation, but let me check... how large is my list?"
   ]
  },
  {
   "cell_type": "code",
   "execution_count": 2,
   "metadata": {},
   "outputs": [
    {
     "name": "stdout",
     "output_type": "stream",
     "text": [
      "0\n"
     ]
    }
   ],
   "source": [
    "print(len([int(i) for i in file]))"
   ]
  },
  {
   "cell_type": "markdown",
   "metadata": {},
   "source": [
    "This is weird. Why am I getting a 0?"
   ]
  },
  {
   "cell_type": "code",
   "execution_count": 3,
   "metadata": {},
   "outputs": [],
   "source": [
    "for i in file:\n",
    "    print(i)"
   ]
  },
  {
   "cell_type": "markdown",
   "metadata": {},
   "source": [
    "Still weird. I'm not getting anything. Let me literally copy what I wrote above."
   ]
  },
  {
   "cell_type": "code",
   "execution_count": 4,
   "metadata": {},
   "outputs": [
    {
     "name": "stdout",
     "output_type": "stream",
     "text": [
      "513\n"
     ]
    }
   ],
   "source": [
    "# Open the file for reading.\n",
    "file = open('./day_1_input.txt', 'r')\n",
    "\n",
    "# List comprehension iterating over each item in the file\n",
    "print(sum([int(i) for i in file]))"
   ]
  },
  {
   "cell_type": "markdown",
   "metadata": {},
   "source": [
    "This works!"
   ]
  },
  {
   "cell_type": "code",
   "execution_count": 5,
   "metadata": {},
   "outputs": [
    {
     "name": "stdout",
     "output_type": "stream",
     "text": [
      "0\n"
     ]
    }
   ],
   "source": [
    "# List comprehension iterating over each item in the file\n",
    "print(sum([int(i) for i in file]))"
   ]
  },
  {
   "cell_type": "markdown",
   "metadata": {},
   "source": [
    "This doesn't. What this means is that I need to define `file` in my same cell - otherwise it won't work!"
   ]
  },
  {
   "cell_type": "code",
   "execution_count": 6,
   "metadata": {},
   "outputs": [
    {
     "name": "stdout",
     "output_type": "stream",
     "text": [
      "1016\n"
     ]
    }
   ],
   "source": [
    "# Open the file for reading.\n",
    "file = open('./day_1_input.txt', 'r')\n",
    "\n",
    "# List comprehension iterating over each item in the file\n",
    "print(len([i for i in file]))"
   ]
  },
  {
   "cell_type": "markdown",
   "metadata": {},
   "source": [
    "My whole list was 1,016 items long. It certainly isn't worth parallelizing... but that's a strategy I'd use if I'm adding way more items."
   ]
  },
  {
   "cell_type": "markdown",
   "metadata": {},
   "source": [
    "### Resources Used\n",
    "- https://stackoverflow.com/questions/32971752/python-read-file-from-a-web-url\n",
    "- https://www.pythonforbeginners.com/cheatsheet/python-file-handling"
   ]
  }
 ],
 "metadata": {
  "kernelspec": {
   "display_name": "Python 3",
   "language": "python",
   "name": "python3"
  },
  "language_info": {
   "codemirror_mode": {
    "name": "ipython",
    "version": 3
   },
   "file_extension": ".py",
   "mimetype": "text/x-python",
   "name": "python",
   "nbconvert_exporter": "python",
   "pygments_lexer": "ipython3",
   "version": "3.7.0"
  }
 },
 "nbformat": 4,
 "nbformat_minor": 2
}
