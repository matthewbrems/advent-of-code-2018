{
 "cells": [
  {
   "cell_type": "markdown",
   "metadata": {},
   "source": [
    "### Advent of Code: Day 2"
   ]
  },
  {
   "cell_type": "markdown",
   "metadata": {},
   "source": [
    "### Part One\n",
    "\n",
    "#### My process: \n",
    "We're counting characters in each word found at [this link](https://adventofcode.com/2018/day/2/input).\n",
    "- I want to iterate over each word.\n",
    "- In each word, I want to create a dictionary with keys for each letter and values representing how frequently that letter is observe.\n",
    "- I'll then see if any of the values in this dictionary match 2 or 3 and add to a counter if so.\n",
    "- I'll finally return the checksum."
   ]
  },
  {
   "cell_type": "markdown",
   "metadata": {},
   "source": [
    "#### Here's a sandbox of some things I explored to make sure they worked the way I expected:"
   ]
  },
  {
   "cell_type": "code",
   "execution_count": 1,
   "metadata": {},
   "outputs": [
    {
     "data": {
      "text/plain": [
       "{'a', 'b', 'c', 'd', 'f', 's'}"
      ]
     },
     "execution_count": 1,
     "metadata": {},
     "output_type": "execute_result"
    }
   ],
   "source": [
    "set('abcbacabasdfs')"
   ]
  },
  {
   "cell_type": "code",
   "execution_count": 2,
   "metadata": {},
   "outputs": [
    {
     "data": {
      "text/plain": [
       "4"
      ]
     },
     "execution_count": 2,
     "metadata": {},
     "output_type": "execute_result"
    }
   ],
   "source": [
    "'abcbacabasdfs'.count('a')"
   ]
  },
  {
   "cell_type": "code",
   "execution_count": 3,
   "metadata": {},
   "outputs": [],
   "source": [
    "word_dict = {}\n",
    "for j in set('abcbacabasdfs'):\n",
    "    word_dict[j] = 'abcbacabasdfs'.count(j)"
   ]
  },
  {
   "cell_type": "code",
   "execution_count": 4,
   "metadata": {},
   "outputs": [
    {
     "data": {
      "text/plain": [
       "{'d': 1, 'f': 1, 'c': 2, 'b': 3, 's': 2, 'a': 4}"
      ]
     },
     "execution_count": 4,
     "metadata": {},
     "output_type": "execute_result"
    }
   ],
   "source": [
    "word_dict"
   ]
  },
  {
   "cell_type": "code",
   "execution_count": 5,
   "metadata": {},
   "outputs": [
    {
     "data": {
      "text/plain": [
       "True"
      ]
     },
     "execution_count": 5,
     "metadata": {},
     "output_type": "execute_result"
    }
   ],
   "source": [
    "1 in word_dict.values()"
   ]
  },
  {
   "cell_type": "markdown",
   "metadata": {},
   "source": [
    "#### Solution:"
   ]
  },
  {
   "cell_type": "code",
   "execution_count": 6,
   "metadata": {
    "scrolled": true
   },
   "outputs": [],
   "source": [
    "# Open the file for reading.\n",
    "file = open('./day_2_input.txt', 'r')\n",
    "\n",
    "# List comprehension iterating over each item in the file\n",
    "list_of_words = [i for i in file]"
   ]
  },
  {
   "cell_type": "code",
   "execution_count": 7,
   "metadata": {},
   "outputs": [
    {
     "name": "stdout",
     "output_type": "stream",
     "text": [
      "5456\n"
     ]
    }
   ],
   "source": [
    "# Instantiate counters.\n",
    "two_count = 0\n",
    "three_count = 0\n",
    "\n",
    "# Iterate over each word.\n",
    "for i in list_of_words:\n",
    "    \n",
    "    # Instantiate empty dictionary.\n",
    "    word_dict = {}\n",
    "    \n",
    "    # Check each unique letter in the word, then count the values\n",
    "    # and append it into the dictionary.\n",
    "    for j in set(i):\n",
    "        word_dict[j] = i.count(j)\n",
    "        \n",
    "    # Check to see if there are any letters with 2 or 3 occurrences.\n",
    "    if 2 in word_dict.values():\n",
    "        two_count += 1\n",
    "    if 3 in word_dict.values():\n",
    "        three_count += 1\n",
    "\n",
    "# Print checksum.\n",
    "print(two_count * three_count)"
   ]
  },
  {
   "cell_type": "markdown",
   "metadata": {},
   "source": [
    "#### How might I improve this?\n",
    "I wonder if there's a way to just check if a string contains two or three values, in case the strings were really long or there were millions of rows."
   ]
  },
  {
   "cell_type": "markdown",
   "metadata": {},
   "source": [
    "### Part Two\n",
    "\n",
    "#### My process: \n",
    "- I'll iterate through each pair of words.\n",
    "- I'll calculate the [Hamming distance](https://en.wikipedia.org/wiki/Hamming_distance) between each pair of words.\n",
    "- I'll print the common pieces of the strings that have a Hamming distance of 1."
   ]
  },
  {
   "cell_type": "code",
   "execution_count": 8,
   "metadata": {},
   "outputs": [],
   "source": [
    "# Create a function to calculate Hamming distance.\n",
    "def hamming(string_1, string_2):\n",
    "    count = 0\n",
    "    for i in range(len(string_1)):\n",
    "        if string_1[i] != string_2[i]:\n",
    "            count += 1\n",
    "    return count"
   ]
  },
  {
   "cell_type": "code",
   "execution_count": 9,
   "metadata": {},
   "outputs": [
    {
     "data": {
      "text/plain": [
       "1"
      ]
     },
     "execution_count": 9,
     "metadata": {},
     "output_type": "execute_result"
    }
   ],
   "source": [
    "hamming('abcde', 'abcee')"
   ]
  },
  {
   "cell_type": "code",
   "execution_count": 10,
   "metadata": {},
   "outputs": [
    {
     "name": "stdout",
     "output_type": "stream",
     "text": [
      "megsdlpulxvinkatfoyzxcbvq\n",
      "\n"
     ]
    }
   ],
   "source": [
    "# Iterate through list of words.\n",
    "for i in range(len(list_of_words)):\n",
    "    for j in list_of_words[i+1:]:\n",
    "\n",
    "        # Check Hamming distance.\n",
    "        if hamming(list_of_words[i], j) == 1:\n",
    "            \n",
    "        # If Hamming = 1, then create new string.\n",
    "            string = ''\n",
    "            # Iterate through letters. If they're the same, add it to a list.\n",
    "            for letter in range(len(j)):\n",
    "                if list_of_words[i][letter] == j[letter]:\n",
    "                    string = string + j[letter]\n",
    "            # Print the result.\n",
    "            print(string)"
   ]
  },
  {
   "cell_type": "code",
   "execution_count": 11,
   "metadata": {},
   "outputs": [
    {
     "data": {
      "text/plain": [
       "'megsdlpulxvinkatfoyzxcbvq\\n'"
      ]
     },
     "execution_count": 11,
     "metadata": {},
     "output_type": "execute_result"
    }
   ],
   "source": [
    "string"
   ]
  },
  {
   "cell_type": "markdown",
   "metadata": {},
   "source": [
    "#### How might I improve this?\n",
    "The control flow is complex. I'd love to find a way to not use nested for loops. I also think there's a way to print the string by just dropping the one letter. Actually..."
   ]
  },
  {
   "cell_type": "code",
   "execution_count": 12,
   "metadata": {},
   "outputs": [
    {
     "name": "stdout",
     "output_type": "stream",
     "text": [
      "megsdlpulxvinkatfoyzxcbvq\n",
      "\n"
     ]
    }
   ],
   "source": [
    "# Iterate through list of words.\n",
    "for i in range(len(list_of_words)):\n",
    "    for j in list_of_words[i+1:]:\n",
    "\n",
    "        # Check Hamming distance.\n",
    "        if hamming(list_of_words[i], j) == 1:\n",
    "            \n",
    "        # If Hamming = 1, then create new string.\n",
    "            for letter in range(len(j)):\n",
    "                if list_of_words[i][letter] != j[letter]:\n",
    "                    \n",
    "                    # Print the result.\n",
    "                    print(j[0:letter] + j[letter+1:])"
   ]
  },
  {
   "cell_type": "markdown",
   "metadata": {},
   "source": [
    "### Resources Used\n",
    "- https://stackoverflow.com/questions/31007054/hamming-distance-between-two-binary-strings-not-working"
   ]
  }
 ],
 "metadata": {
  "kernelspec": {
   "display_name": "Python 3",
   "language": "python",
   "name": "python3"
  },
  "language_info": {
   "codemirror_mode": {
    "name": "ipython",
    "version": 3
   },
   "file_extension": ".py",
   "mimetype": "text/x-python",
   "name": "python",
   "nbconvert_exporter": "python",
   "pygments_lexer": "ipython3",
   "version": "3.7.0"
  }
 },
 "nbformat": 4,
 "nbformat_minor": 2
}
